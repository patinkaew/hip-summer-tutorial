{
 "cells": [
  {
   "cell_type": "markdown",
   "id": "d05958cb",
   "metadata": {},
   "source": [
    "# Coffea from ground up\n",
    "\n",
    "The goal of this notebook is to understand coffea better and learn how you can make analysis from scratch.  "
   ]
  },
  {
   "cell_type": "code",
   "execution_count": null,
   "id": "f0b7f21f",
   "metadata": {},
   "outputs": [],
   "source": [
    "# First we import packages\n",
    "# but let's understand actually what these are doing\n",
    "\n",
    "# Scientific python packages\n",
    "# these are standard packages widely used in scientific computing, not limited to HEP\n",
    "# there are more, like scipy, pandas, and sympy, etc.\n",
    "import numpy as np # implement high performance arrays optimized and operations (array operations)\n",
    "import matplotlib.pyplot as plt # make plots\n",
    "\n",
    "# scikit-hep packages\n",
    "# these are packages developed specifically for HEP\n",
    "# there are more, see https://scikit-hep.org\n",
    "# also tutorial: https://hsf-training.github.io/hsf-training-scikit-hep-webpage/index.html\n",
    "import uproot # read/write root files\n",
    "import awkward as ak # similar to np.arrays, but allow jagged arrays\n",
    "import hist # make histogram\n",
    "import mplhep as hep # make matplotlib plots in LHC's publication style\n",
    "\n",
    "# coffea framework\n",
    "# coffea is built on top of several scikit-hep, mainly uproot and awkward\n",
    "# documentation https://coffeateam.github.io/coffea\n",
    "import coffea"
   ]
  },
  {
   "cell_type": "markdown",
   "id": "fecd5c3f",
   "metadata": {},
   "source": [
    "## Q1: I just want to make histogram of something in NanoAOD. How can I do that?\n",
    "\n",
    "There are two ways: \n",
    "\n",
    "(1) uproot + awkward\n",
    "\n",
    "(2) coffea\n",
    "\n",
    "Coffea provides a nice \"schema\", which is a template of objects included in NanoAOD. Moreover, coffea will organize acessing properties of objects in an inutitive hierarchical way. So it is recommended to go with second option and we will only go over coffea option."
   ]
  },
  {
   "cell_type": "code",
   "execution_count": null,
   "id": "6c3c964a",
   "metadata": {},
   "outputs": [],
   "source": [
    "from coffea.nanoevents import NanoEventsFactory, NanoAODSchema"
   ]
  },
  {
   "cell_type": "code",
   "execution_count": null,
   "id": "14f9f0c4",
   "metadata": {},
   "outputs": [],
   "source": [
    "# pick filename\n",
    "#fname = \"https://raw.githubusercontent.com/CoffeaTeam/coffea/master/tests/samples/nano_dy.root\"\n",
    "fname = \"/eos/cms/store/group/phys_jetmet/JMENanoRun3/v2p1/JetMET/JMENanoRun3_v2p1_Run2022D-PromptReco-v2/220915_173253/0000/tree_393.root\"\n",
    "fname = \"/eos/cms/store/group/phys_jetmet/JMENanoRun3/v2p1/QCD_Pt-15to7000_TuneCP5_Flat_13p6TeV_pythia8/JMENanoRun3_v2p1_MC22_122/220915_171347/0000/tree_206.root\"\n",
    "\n",
    "# coffea implements NanoEventsFactory which produces events from root\n",
    "events = NanoEventsFactory.from_root( # apart from root, coffea supports several other file types, e.g. parquet\n",
    "            fname,\n",
    "            schemaclass=NanoAODSchema.v6, # schema to use\n",
    "            metadata={\"dataset\": \"JetMET\"}, # you can put metadata like this, e.g. dataset name\n",
    "            ).events() # finally, call factory to give us events"
   ]
  },
  {
   "cell_type": "code",
   "execution_count": null,
   "id": "dc7c8f7a",
   "metadata": {},
   "outputs": [],
   "source": [
    "# let's see what are in schema\n",
    "# here, mixins is a map from object's name stored in NanoAOD to pre-defined object types in coffea\n",
    "# these object types make interacting with them more intuitive\n",
    "# for example, Jet (AK4CHS; this file is run2) is a Jet, of course. But, GenJet, Fatjet,... are also Jets.\n",
    "NanoAODSchema.mixins;"
   ]
  },
  {
   "cell_type": "code",
   "execution_count": null,
   "id": "57d985a7",
   "metadata": {},
   "outputs": [],
   "source": [
    "# we can inspect events\n",
    "events;\n",
    "\n",
    "# here, you can see type = 40 * events\n",
    "# 40 is a number of events\n",
    "# if you want to print, this is repr(events)"
   ]
  },
  {
   "cell_type": "code",
   "execution_count": null,
   "id": "05f3f83e",
   "metadata": {},
   "outputs": [],
   "source": [
    "# you can see the contents of events by calling fields\n",
    "sorted(events.fields);"
   ]
  },
  {
   "cell_type": "code",
   "execution_count": null,
   "id": "6876b531",
   "metadata": {},
   "outputs": [],
   "source": [
    "# similarly, we can inspect Jet\n",
    "events.Jet;\n",
    "\n",
    "# we can see type=40 * var * jet\n",
    "# 40 is again, number of events\n",
    "# And the last \"jet\" is saying this is jet collection\n",
    "# The interesting part is var, which is \"variable\"\n",
    "# In each event, the number of jets are not the same\n",
    "# This arrays is called \"jagged\" array\n",
    "# Since np.array can only represent regular or square array, awkward array is developed for this reason\n",
    "# Awkward syntaxes are very similar to numpy\n",
    "# You can even use numpy functions on awkward array"
   ]
  },
  {
   "cell_type": "code",
   "execution_count": null,
   "id": "915d7a8f",
   "metadata": {},
   "outputs": [],
   "source": [
    "# Now, what types of Jet is this? \n",
    "# You can access __doc__ to get more information\n",
    "# of course, this relies on that NanoAOD you have is well-documented...\n",
    "events.Jet.__doc__;"
   ]
  },
  {
   "cell_type": "code",
   "execution_count": null,
   "id": "60fd5198",
   "metadata": {},
   "outputs": [],
   "source": [
    "# you can also, access Jet with dictionary-like syntax\n",
    "events[\"Jet\"];"
   ]
  },
  {
   "cell_type": "code",
   "execution_count": null,
   "id": "fbc1b698",
   "metadata": {},
   "outputs": [],
   "source": [
    "# Similarly, you can see the contents of events by calling fields\n",
    "sorted(events.Jet.fields);"
   ]
  },
  {
   "cell_type": "code",
   "execution_count": null,
   "id": "89f03724",
   "metadata": {},
   "outputs": [],
   "source": [
    "# Similarly, we can get Jet pt by\n",
    "events.Jet.pt;"
   ]
  },
  {
   "cell_type": "code",
   "execution_count": null,
   "id": "c65dc94a",
   "metadata": {},
   "outputs": [],
   "source": [
    "# Or\n",
    "events[\"Jet\"].pt;"
   ]
  },
  {
   "cell_type": "code",
   "execution_count": null,
   "id": "c65a9f05",
   "metadata": {},
   "outputs": [],
   "source": [
    "# Or\n",
    "events.Jet[\"pt\"];"
   ]
  },
  {
   "cell_type": "code",
   "execution_count": null,
   "id": "422ad76c",
   "metadata": {},
   "outputs": [],
   "source": [
    "# Or\n",
    "events[\"Jet\", \"pt\"];"
   ]
  },
  {
   "cell_type": "code",
   "execution_count": null,
   "id": "f2799eae",
   "metadata": {},
   "outputs": [],
   "source": [
    "# Question: in NanoAOD, this is saved as Jet_pt\n",
    "# How might you access this with Jet_pt string? "
   ]
  },
  {
   "cell_type": "code",
   "execution_count": null,
   "id": "0dd1010e",
   "metadata": {},
   "outputs": [],
   "source": [
    "# now, let's make a histogram\n",
    "\n",
    "# create new histogram\n",
    "h_AK4pt = hist.new.Regular(100, 1, 10000, name=\"jet_pt\", label=r\"Jet $p_T$\", \n",
    "                           transform=hist.axis.transform.log).Double()\n",
    "\n",
    "# fill histogram\n",
    "h_AK4pt.fill(jet_pt = ak.flatten(events.Jet.pt))\n",
    "\n",
    "hep.style.use(\"CMS\") # use CMS styles\n",
    "\n",
    "fig, ax = plt.subplots() # get axis from plt\n",
    "\n",
    "h_AK4pt.plot(ax=ax, yerr=False) # plot\n",
    "\n",
    "ax.set_xscale(\"log\") # set x scale in plot\n",
    "ax.set_ylabel(\"\")\n",
    "ax.grid()\n",
    "\n",
    "hep.cms.label(label=\"private\", loc=0, data=True, year=\"2022\") # decorate plot\n",
    "plt.show()"
   ]
  },
  {
   "cell_type": "code",
   "execution_count": null,
   "id": "e7163e28",
   "metadata": {},
   "outputs": [],
   "source": [
    "# Ok let's discuss hist a bit\n",
    "# you can access bin counts\n",
    "h_AK4pt.counts();"
   ]
  },
  {
   "cell_type": "code",
   "execution_count": null,
   "id": "4abcde53",
   "metadata": {},
   "outputs": [],
   "source": [
    "# you can access bin values\n",
    "h_AK4pt.values();\n",
    "\n",
    "# what is the difference between bin counts and bin values?\n",
    "# they are different when histograms are weighted, e.g. with eventweight in MC\n",
    "# counts = unweighted number of data in each bin\n",
    "# values = weighted number of data in each bin"
   ]
  },
  {
   "cell_type": "code",
   "execution_count": null,
   "id": "a1af1639",
   "metadata": {},
   "outputs": [],
   "source": [
    "# you can get bin's information by first accessing axes\n",
    "h_AK4pt.axes"
   ]
  },
  {
   "cell_type": "code",
   "execution_count": null,
   "id": "69769d82",
   "metadata": {},
   "outputs": [],
   "source": [
    "# can access by index\n",
    "h_AK4pt.axes[0] "
   ]
  },
  {
   "cell_type": "code",
   "execution_count": null,
   "id": "d19c5399",
   "metadata": {},
   "outputs": [],
   "source": [
    "# or by access' name\n",
    "h_AK4pt.axes[\"jet_pt\"]"
   ]
  },
  {
   "cell_type": "code",
   "execution_count": null,
   "id": "59ecf4be",
   "metadata": {},
   "outputs": [],
   "source": [
    "# then, you can get, for example, bin edges\n",
    "h_AK4pt.axes[\"jet_pt\"].edges;"
   ]
  },
  {
   "cell_type": "code",
   "execution_count": null,
   "id": "5aea1314",
   "metadata": {},
   "outputs": [],
   "source": [
    "# or bin centers\n",
    "h_AK4pt.axes[\"jet_pt\"].centers;"
   ]
  },
  {
   "cell_type": "code",
   "execution_count": null,
   "id": "ac230d11",
   "metadata": {},
   "outputs": [],
   "source": [
    "# slicing by bin indices\n",
    "hep.style.use(\"CMS\") # use CMS styles\n",
    "\n",
    "fig, ax = plt.subplots() # get axis from plt\n",
    "\n",
    "h_AK4pt[30:50].plot(ax=ax, yerr=False) # plot\n",
    "\n",
    "ax.set_xscale(\"log\") # set x scale in plot\n",
    "ax.set_ylabel(\"\")\n",
    "ax.grid()\n",
    "\n",
    "hep.cms.label(label=\"private\", loc=0, data=True, year=\"2022\") # decorate plot\n",
    "plt.show()"
   ]
  },
  {
   "cell_type": "code",
   "execution_count": null,
   "id": "001d42a9",
   "metadata": {},
   "outputs": [],
   "source": [
    "# slicing by values, using imaginary j\n",
    "hep.style.use(\"CMS\") # use CMS styles\n",
    "\n",
    "fig, ax = plt.subplots() # get axis from plt\n",
    "\n",
    "h_AK4pt[20j:200j].plot(ax=ax, yerr=False) # plot\n",
    "\n",
    "ax.set_xscale(\"log\") # set x scale in plot\n",
    "ax.set_ylabel(\"\")\n",
    "ax.grid()\n",
    "\n",
    "hep.cms.label(label=\"private\", loc=0, data=True, year=\"2022\") # decorate plot\n",
    "plt.show()"
   ]
  },
  {
   "cell_type": "code",
   "execution_count": null,
   "id": "6f623cb8",
   "metadata": {},
   "outputs": [],
   "source": [
    "# slicing with slice\n",
    "hep.style.use(\"CMS\") # use CMS styles\n",
    "\n",
    "fig, ax = plt.subplots() # get axis from plt\n",
    "\n",
    "h_AK4pt[slice(20j, 200j, None)].plot(ax=ax, yerr=False) # plot\n",
    "\n",
    "ax.set_xscale(\"log\") # set x scale in plot\n",
    "ax.set_ylabel(\"\")\n",
    "ax.grid()\n",
    "\n",
    "hep.cms.label(label=\"private\", loc=0, data=True, year=\"2022\") # decorate plot\n",
    "plt.show()"
   ]
  },
  {
   "cell_type": "code",
   "execution_count": null,
   "id": "6e71e033",
   "metadata": {},
   "outputs": [],
   "source": [
    "# you can also integrate the whole histogram like this\n",
    "h_AK4pt[sum]"
   ]
  },
  {
   "cell_type": "code",
   "execution_count": null,
   "id": "332c639b",
   "metadata": {},
   "outputs": [],
   "source": [
    "# you can integrate histogram in specific range\n",
    "# slice object last argument is reduction operation\n",
    "# None = no reduction\n",
    "# we can use sum here\n",
    "# and we're integrating histogram in range (20, 200)!\n",
    "h_AK4pt[slice(20j, 200j, sum)]"
   ]
  },
  {
   "cell_type": "code",
   "execution_count": null,
   "id": "3041fc7d",
   "metadata": {},
   "outputs": [],
   "source": [
    "# Question: how can we integrate two disjoint ranges?"
   ]
  },
  {
   "cell_type": "code",
   "execution_count": null,
   "id": "c57e7279",
   "metadata": {},
   "outputs": [],
   "source": [
    "# you can profile (computing mean) along axis\n",
    "h_AK4pt.profile(\"jet_pt\")"
   ]
  },
  {
   "cell_type": "code",
   "execution_count": null,
   "id": "a2dc58f8",
   "metadata": {},
   "outputs": [],
   "source": [
    "# you can project to axis/axes (integrating all other axes)\n",
    "h_AK4pt.project() \n",
    "# h_AK4pt.project(\"jet_pt\")"
   ]
  },
  {
   "cell_type": "markdown",
   "id": "1eaa5437",
   "metadata": {},
   "source": [
    "### Exercise 1: Plot Jet eta\n",
    "This is a simple exercise for you to get your hands dirty! Just repeat the steps and plot Jet eta. What is special characteristic you see?\n",
    "\n",
    "Hints: plot vertical lines at [-5, -3, -2.5, -1.3, 0, 1.3, 2.5, 3, 5]"
   ]
  },
  {
   "cell_type": "code",
   "execution_count": null,
   "id": "76feb84c",
   "metadata": {},
   "outputs": [],
   "source": []
  },
  {
   "cell_type": "markdown",
   "id": "419d7ee5",
   "metadata": {},
   "source": [
    "### Exercise 2: Plot AK4Jet area vs AK8Jet area on the same histogram\n",
    "Overlay AK4Jet and AK8Jet area on the same plot and draw vertical lines corresponding to $\\pi R^2$ where $R$ is cone-size used in anti-kt algorithm."
   ]
  },
  {
   "cell_type": "code",
   "execution_count": null,
   "id": "ea30fad6",
   "metadata": {},
   "outputs": [],
   "source": []
  },
  {
   "cell_type": "markdown",
   "id": "146b3394",
   "metadata": {},
   "source": [
    "### Exercise 3: Plot Jet Energy Fractions\n",
    "This is quite similar to Exercise 2. Plot (charged, neutral) x (ECAL, HCAL) + Muon energy fraction in jet. This is to help you get to read documentation! What do jets consist of mostly?\n",
    "\n",
    "NanoAOD datatier: https://twiki.cern.ch/twiki/bin/view/CMSPublic/WorkBookNanoAOD"
   ]
  },
  {
   "cell_type": "markdown",
   "id": "3d3796a3",
   "metadata": {},
   "source": [
    "Now, we will use array operations implemented in numpy. awkward has similar syntaxes to numpy. If awkward array function does not exist, you can use numpy functions on awkward arrays!"
   ]
  },
  {
   "cell_type": "code",
   "execution_count": null,
   "id": "4e271547",
   "metadata": {},
   "outputs": [],
   "source": []
  },
  {
   "cell_type": "code",
   "execution_count": null,
   "id": "def96854",
   "metadata": {},
   "outputs": [],
   "source": []
  },
  {
   "cell_type": "code",
   "execution_count": null,
   "id": "befd853b",
   "metadata": {},
   "outputs": [],
   "source": [
    "# let's look at Jet pt again\n",
    "events.Jet.pt"
   ]
  },
  {
   "cell_type": "code",
   "execution_count": null,
   "id": "cbffb85a",
   "metadata": {},
   "outputs": [],
   "source": [
    "events.Jet.pt[0]"
   ]
  },
  {
   "cell_type": "code",
   "execution_count": null,
   "id": "a52b4fa5",
   "metadata": {},
   "outputs": [],
   "source": [
    "events.Jet.pt[1]"
   ]
  },
  {
   "cell_type": "code",
   "execution_count": null,
   "id": "b81db4d5",
   "metadata": {},
   "outputs": [],
   "source": [
    "# So events.Jet.pt is 2-D array of Jet: number of events x number of jets\n",
    "\n",
    "# let's try this\n",
    "events.Jet.pt[:, 0];"
   ]
  },
  {
   "cell_type": "code",
   "execution_count": null,
   "id": "c537e559",
   "metadata": {},
   "outputs": [],
   "source": [
    "# let's select only events with at least 2 jets\n",
    "at_least_two_jets_events = events[ak.num(events.Jet) >= 2]\n",
    "at_least_two_jets_events"
   ]
  },
  {
   "cell_type": "code",
   "execution_count": null,
   "id": "4efc3904",
   "metadata": {},
   "outputs": [],
   "source": [
    "leading_jet_pt = at_least_two_jets_events.Jet.pt[:, 0]\n",
    "subleading_jet_pt = at_least_two_jets_events.Jet.pt[:, 1]"
   ]
  },
  {
   "cell_type": "code",
   "execution_count": null,
   "id": "34c0c41c",
   "metadata": {},
   "outputs": [],
   "source": [
    "leading_jet_pt"
   ]
  },
  {
   "cell_type": "code",
   "execution_count": null,
   "id": "adaae7e7",
   "metadata": {},
   "outputs": [],
   "source": [
    "subleading_jet_pt"
   ]
  },
  {
   "cell_type": "code",
   "execution_count": null,
   "id": "3bc1506c",
   "metadata": {},
   "outputs": [],
   "source": [
    "h_leading_jet_pt = hist.new.Regular(100, 1, 10000, name=\"jet_pt\", label=r\"Jet $p_T$\", \n",
    "                           transform=hist.axis.transform.log).Double()\n",
    "h_leading_jet_pt.fill(jet_pt=leading_jet_pt)\n",
    "\n",
    "h_subleading_jet_pt = hist.new.Regular(100, 1, 10000, name=\"jet_pt\", label=r\"Jet $p_T$\", \n",
    "                           transform=hist.axis.transform.log).Double()\n",
    "h_subleading_jet_pt.fill(jet_pt=subleading_jet_pt)\n",
    "\n",
    "hep.style.use(\"CMS\") # use CMS styles\n",
    "\n",
    "fig, ax = plt.subplots() # get axis from plt\n",
    "\n",
    "h_leading_jet_pt.plot(ax=ax, yerr=False, label=\"leading\") # plot\n",
    "h_subleading_jet_pt.plot(ax=ax, yerr=False, label=\"subleading\")\n",
    "\n",
    "ax.set_ylabel(\"Jets\")\n",
    "ax.set_xscale(\"log\")\n",
    "ax.grid()\n",
    "\n",
    "ax.legend()\n",
    "\n",
    "hep.cms.label(label=\"private\", loc=0, data=False, year=\"2022\") # decorate plot\n",
    "plt.show()"
   ]
  },
  {
   "cell_type": "code",
   "execution_count": null,
   "id": "3c944dda",
   "metadata": {},
   "outputs": [],
   "source": [
    "dphi = at_least_two_jets_events.Jet[:, 0].phi - at_least_two_jets_events.Jet[:, 1].phi\n",
    "opposite_cut = np.abs(dphi) > 2.7"
   ]
  },
  {
   "cell_type": "code",
   "execution_count": null,
   "id": "cd5142c7",
   "metadata": {},
   "outputs": [],
   "source": [
    "dijet_events = at_least_two_jets_events[opposite_cut]\n",
    "dijet_events "
   ]
  },
  {
   "cell_type": "code",
   "execution_count": null,
   "id": "26f89353",
   "metadata": {},
   "outputs": [],
   "source": [
    "h_leading_jet_pt = hist.new.Regular(100, 1, 10000, name=\"jet_pt\", label=r\"Jet $p_T$\", \n",
    "                           transform=hist.axis.transform.log).Double()\n",
    "h_leading_jet_pt.fill(jet_pt=dijet_events.Jet.pt[:, 0])\n",
    "\n",
    "h_subleading_jet_pt = hist.new.Regular(100, 1, 10000, name=\"jet_pt\", label=r\"Jet $p_T$\", \n",
    "                           transform=hist.axis.transform.log).Double()\n",
    "h_subleading_jet_pt.fill(jet_pt=dijet_events.Jet.pt[:, 1])\n",
    "\n",
    "hep.style.use(\"CMS\") # use CMS styles\n",
    "\n",
    "fig, ax = plt.subplots() # get axis from plt\n",
    "\n",
    "h_leading_jet_pt.plot(ax=ax, yerr=False, label=\"leading\") # plot\n",
    "h_subleading_jet_pt.plot(ax=ax, yerr=False, label=\"subleading\")\n",
    "\n",
    "ax.set_ylabel(\"Jets\")\n",
    "ax.set_xscale(\"log\")\n",
    "ax.grid()\n",
    "\n",
    "ax.legend()\n",
    "\n",
    "hep.cms.label(label=\"private\", loc=0, data=False, year=\"2022\") # decorate plot\n",
    "plt.show()"
   ]
  },
  {
   "cell_type": "markdown",
   "id": "d7ab181a",
   "metadata": {},
   "source": [
    "### Exercise 4: Plot Jet flavours\n",
    "Now, you will apply some cuts to select jets with different flavours. Jet flavours from MC simulation is stored in \"Jet_partonFlavour\":\n",
    "\n",
    "- 1: d\n",
    "- 2: u\n",
    "- 3: s\n",
    "- 4: c\n",
    "- 5: b\n",
    "- 21: g\n",
    "- 0: unmatched\n",
    "\n",
    "and negatives are corresponding anti-quarks\n",
    "\n",
    "If you're done early, in reality, we cannot tell uds quarks apart for now. So make another histogram with g, uds, c, b, g, and unmatched. That is, combine uds results (there are two approaches!)\n",
    "\n",
    "Plot these quantities: pt and some b-tagger: (btagDeepB, btagDeepFlavB, and particleNetAK4_B)"
   ]
  },
  {
   "cell_type": "code",
   "execution_count": null,
   "id": "17708b7c",
   "metadata": {},
   "outputs": [],
   "source": []
  },
  {
   "cell_type": "code",
   "execution_count": null,
   "id": "8b23de5c",
   "metadata": {},
   "outputs": [],
   "source": []
  },
  {
   "cell_type": "code",
   "execution_count": null,
   "id": "f8e6f897",
   "metadata": {},
   "outputs": [],
   "source": [
    "# Ok, let's look at something else, apart from jets\n",
    "\n",
    "muon_fname = \"/eos/cms/store/group/phys_jetmet/JMENanoRun3/v2p1/Muon/JMENanoRun3_v2p1_Run2022E-PromptReco-v1/221007_173948/0000/tree_785.root\"\n",
    "# coffea implements NanoEventsFactory which produces events from root\n",
    "muon_events = NanoEventsFactory.from_root( # apart from root, coffea supports several other file types, e.g. parquet\n",
    "                muon_fname,\n",
    "                schemaclass=NanoAODSchema.v6, # schema to use\n",
    "                metadata={\"dataset\": \"Muon\"}, # you can put metadata like this, e.g. dataset name\n",
    "                ).events() # finally, call factory to give us events"
   ]
  },
  {
   "cell_type": "code",
   "execution_count": null,
   "id": "9290167c",
   "metadata": {},
   "outputs": [],
   "source": [
    "# select events with two muon and divide into two categories\n",
    "two_muon_events = muon_events[ak.num(muon_events.Muon)==2]\n",
    "same_charge_muon_events = two_muon_events[two_muon_events.Muon[:, 0].charge == two_muon_events.Muon[:, 1].charge]\n",
    "opposite_charge_muon_events = two_muon_events[two_muon_events.Muon[:, 0].charge != two_muon_events.Muon[:, 1].charge]"
   ]
  },
  {
   "cell_type": "code",
   "execution_count": null,
   "id": "342fc0ac",
   "metadata": {},
   "outputs": [],
   "source": [
    "# compute \n",
    "same_charge_muon_events[\"MuonMass\"] = (same_charge_muon_events.Muon[:, 0] + same_charge_muon_events.Muon[:, 1]).mass\n",
    "opposite_charge_muon_events[\"MuonMass\"] = (opposite_charge_muon_events.Muon[:, 0] + opposite_charge_muon_events.Muon[:, 1]).mass"
   ]
  },
  {
   "cell_type": "code",
   "execution_count": null,
   "id": "ec7f5e48",
   "metadata": {},
   "outputs": [],
   "source": [
    "# let's use one histogram this time, but we will add another axis for charge selection\n",
    "h_dimuon = hist.new.StrCategory([\"Same\", \"Opposite\"], name=\"charge\", label=\"charge selection\")\\\n",
    "                   .Regular(100, 0, 200, name=\"mass\", label=\"m_{\\mu\\mu}\")\\\n",
    "                   .Weight()"
   ]
  },
  {
   "cell_type": "code",
   "execution_count": null,
   "id": "bea093d0",
   "metadata": {},
   "outputs": [],
   "source": [
    "# another way to define histogram\n",
    "dimuon_mass_axis = hist.axis.Regular(100, 0, 200, name=\"mass\", label=\"$m_{\\mu\\mu}$\")\n",
    "charge_axis = hist.axis.StrCategory([\"Same\", \"Opposite\"], name=\"charge\", label=\"charge selection\")"
   ]
  },
  {
   "cell_type": "code",
   "execution_count": null,
   "id": "858d596a",
   "metadata": {},
   "outputs": [],
   "source": [
    "h_dimuon = hist.Hist(charge_axis, dimuon_mass_axis, storage=hist.storage.Weight())\n",
    "\n",
    "h_dimuon.fill(charge=\"Same\", mass=same_charge_muon_events[\"MuonMass\"], weight=1)\n",
    "h_dimuon.fill(charge=\"Opposite\", mass=opposite_charge_muon_events[\"MuonMass\"], weight=1)\n",
    "\n",
    "hep.style.use(\"CMS\") # use CMS styles\n",
    "\n",
    "fig, ax = plt.subplots() # get axis from plt\n",
    "\n",
    "h_dimuon.plot(ax=ax, yerr=False) \n",
    "\n",
    "ax.set_ylabel(\"Jets\")\n",
    "ax.grid()\n",
    "\n",
    "ax.legend()\n",
    "\n",
    "hep.cms.label(label=\"private\", loc=0, data=False, year=\"2022\") # decorate plot\n",
    "plt.show()"
   ]
  },
  {
   "cell_type": "code",
   "execution_count": null,
   "id": "49180163",
   "metadata": {},
   "outputs": [],
   "source": [
    "## let's save histogram\n",
    "from coffea import util as cutil\n",
    "cutil.save({\"dimuon\": h_dimuon}, \"output.coffea\")"
   ]
  },
  {
   "cell_type": "code",
   "execution_count": null,
   "id": "ee7358ba",
   "metadata": {},
   "outputs": [],
   "source": [
    "## now, load it back\n",
    "cutil.load(\"output.coffea\")"
   ]
  },
  {
   "cell_type": "code",
   "execution_count": null,
   "id": "d59849c6",
   "metadata": {},
   "outputs": [],
   "source": [
    "# you can create a hist stack by turning one of string category into stack axis\n",
    "h_dimuon_stack = h_dimuon.stack(\"charge\")"
   ]
  },
  {
   "cell_type": "code",
   "execution_count": null,
   "id": "87eb45a7",
   "metadata": {},
   "outputs": [],
   "source": [
    "# you can also call plot on hist.stack\n",
    "fig, ax = plt.subplots()\n",
    "h_dimuon_stack.plot(ax=ax, yerr=False)\n",
    "\n",
    "ax.legend()\n",
    "plt.show()"
   ]
  },
  {
   "cell_type": "code",
   "execution_count": null,
   "id": "3ff34719",
   "metadata": {},
   "outputs": [],
   "source": [
    "# or you can use iterable, e.g. list or dict\n",
    "h_AK4pt = hist.new.Regular(100, 1, 10000, name=\"jet_pt\", label=r\"Jet $p_T$\", \n",
    "                           transform=hist.axis.transform.log).Double()\n",
    "h_AK4pt.fill(jet_pt = ak.flatten(events.Jet.pt))\n",
    "h_AK8pt = hist.new.Regular(100, 1, 10000, name=\"jet_pt\", label=r\"Jet $p_T$\", \n",
    "                           transform=hist.axis.transform.log).Double()\n",
    "h_AK8pt.fill(jet_pt = ak.flatten(events.FatJet.pt))\n",
    "\n",
    "h_jet_pt = hist.Stack.from_dict({\"AK4pt\": h_AK4pt, \"AK8pt\": h_AK8pt})"
   ]
  },
  {
   "cell_type": "code",
   "execution_count": null,
   "id": "276e8d15",
   "metadata": {},
   "outputs": [],
   "source": [
    "# you can also call plot on hist.stack\n",
    "fig, ax = plt.subplots()\n",
    "h_jet_pt.plot(ax=ax, yerr=False)\n",
    "\n",
    "ax.set_xscale(\"log\")\n",
    "ax.legend()\n",
    "plt.show()"
   ]
  },
  {
   "cell_type": "code",
   "execution_count": null,
   "id": "f20dd66f",
   "metadata": {},
   "outputs": [],
   "source": [
    "## let's write histogram to root\n",
    "outfile = uproot.recreate(\"output.root\")\n",
    "outfile[\"Jet_pt\"] = h_AK4pt\n",
    "outfile[\"FatJet_pt\"] = h_AK8pt\n",
    "outfile.close()"
   ]
  },
  {
   "cell_type": "code",
   "execution_count": null,
   "id": "5e2a9e22",
   "metadata": {},
   "outputs": [],
   "source": [
    "# let's open it\n",
    "infile = uproot.open(\"output.root\")"
   ]
  },
  {
   "cell_type": "code",
   "execution_count": null,
   "id": "55f2e491",
   "metadata": {},
   "outputs": [],
   "source": [
    "infile[\"Jet_pt\"]"
   ]
  },
  {
   "cell_type": "code",
   "execution_count": null,
   "id": "0c9926a2",
   "metadata": {},
   "outputs": [],
   "source": [
    "fig, ax = plt.subplots()\n",
    "infile[\"Jet_pt\"].to_hist().plot(ax=ax, yerr=False, label=\"AK4\")\n",
    "hist.Hist(infile[\"FatJet_pt\"]).plot(ax=ax, yerr=False, label=\"AK8\")\n",
    "\n",
    "ax.set_xscale(\"log\")\n",
    "ax.legend()\n",
    "plt.show()"
   ]
  },
  {
   "cell_type": "markdown",
   "id": "c1f13432",
   "metadata": {},
   "source": [
    "### Exercise 5: Jet pt vs GenJet pt in 2D histogram\n",
    "A first step for Jet Energy Correction (JEC)! \n",
    "\n",
    "In this exercise, we will first make a 2D histogram with x-axis as GenJet pt and y-axis as (Reco) Jet pt. Then, we will project to each axis and plot two 1D histograms in the same plot. \n",
    "\n",
    "To perform delta r matching\n",
    "1. Use ak.cartesian to compute cartesian product between jets\n",
    "2. Retrieve first jet and second jet in the cartesian product by .slot0 and .slot1\n",
    "3. Match Reco Jet with Gen Jet within dR = 0.2. You can use Jet.delta_r(OtherJet) to compute dR\n",
    "\n",
    "If you still cannot figure this out, you can look at https://github.com/patinkaew/online-offline-jec/blob/main/processor/selector.py#L782"
   ]
  },
  {
   "cell_type": "code",
   "execution_count": null,
   "id": "d6cd230f",
   "metadata": {},
   "outputs": [],
   "source": []
  },
  {
   "cell_type": "markdown",
   "id": "0e9d2365",
   "metadata": {},
   "source": [
    "## Q2: Columnar Analysis?\n",
    "\n",
    "numpy array and awkward array perform array operation or Same Instruction Multiple Data (SIMD). In numpy terminology, this is called vectorization.\n",
    "\n",
    "Even though coffea promote columnar analysis, which is simply just array operation, you can of course write code with event-loop with coffea which is much slower."
   ]
  },
  {
   "cell_type": "code",
   "execution_count": null,
   "id": "140b9c46",
   "metadata": {},
   "outputs": [],
   "source": [
    "small_events = events[:10000]"
   ]
  },
  {
   "cell_type": "code",
   "execution_count": null,
   "id": "2da8e2d5",
   "metadata": {},
   "outputs": [],
   "source": [
    "%%time\n",
    "h_jet_pt_loop = hist.new.Regular(100, 1, 10000, name=\"jet_pt\", label=r\"Jet $p_T$\", \n",
    "                           transform=hist.axis.transform.log).Int64()\n",
    "for event in small_events:\n",
    "    for jet in event.Jet:\n",
    "        if jet.eta < 1.3:\n",
    "            h_jet_pt_loop.fill(jet_pt=jet.pt)"
   ]
  },
  {
   "cell_type": "code",
   "execution_count": null,
   "id": "028c7cdd",
   "metadata": {},
   "outputs": [],
   "source": [
    "%%time\n",
    "h_jet_pt_no_loop = hist.new.Regular(100, 1, 10000, name=\"jet_pt\", label=r\"Jet $p_T$\", \n",
    "                           transform=hist.axis.transform.log).Int64()\n",
    "\n",
    "h_jet_pt_no_loop.fill(jet_pt=ak.flatten(small_events.Jet[small_events.Jet.eta < 1.3].pt));"
   ]
  },
  {
   "cell_type": "code",
   "execution_count": null,
   "id": "6dc4f6d6",
   "metadata": {},
   "outputs": [],
   "source": [
    "fig, ax = plt.subplots()\n",
    "h_jet_pt_loop.plot(ax=ax, yerr=False, label=\"Loop\", alpha=0.5)\n",
    "h_jet_pt_no_loop.plot(ax=ax, yerr=False, label=\"No loop\", alpha=0.5)\n",
    "\n",
    "ax.set_xscale(\"log\")\n",
    "ax.legend()\n",
    "plt.show()"
   ]
  }
 ],
 "metadata": {
  "@webio": {
   "lastCommId": null,
   "lastKernelId": null
  },
  "kernelspec": {
   "display_name": "Python 3",
   "language": "python",
   "name": "python3"
  },
  "language_info": {
   "codemirror_mode": {
    "name": "ipython",
    "version": 3
   },
   "file_extension": ".py",
   "mimetype": "text/x-python",
   "name": "python",
   "nbconvert_exporter": "python",
   "pygments_lexer": "ipython3",
   "version": "3.9.12"
  }
 },
 "nbformat": 4,
 "nbformat_minor": 5
}
